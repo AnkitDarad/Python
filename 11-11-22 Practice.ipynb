{
 "cells": [
  {
   "cell_type": "code",
   "execution_count": 8,
   "id": "1ad2aed9",
   "metadata": {},
   "outputs": [
    {
     "name": "stdout",
     "output_type": "stream",
     "text": [
      "55\n"
     ]
    }
   ],
   "source": [
    "a=0\n",
    "\n",
    "for i in range(1,11):\n",
    "    a+=i\n",
    "print(a)"
   ]
  },
  {
   "cell_type": "code",
   "execution_count": 19,
   "id": "9f8b0238",
   "metadata": {},
   "outputs": [
    {
     "name": "stdout",
     "output_type": "stream",
     "text": [
      "Price of bike 105000\n",
      "Tax on your bike is 15750.0\n",
      "On road price of your bike is 120750.0\n"
     ]
    }
   ],
   "source": [
    "p=int(input(\"Price of bike \"))\n",
    "if p<=50000:\n",
    "    t=p/100*5\n",
    "    OnRoad=p+t\n",
    "    print(\"Tax on your bike is\",t)\n",
    "    print(\"On road price of your bike is\",OnRoad)\n",
    "elif p>50000 and p<=100000:\n",
    "    t=p/100*10\n",
    "    OnRoad=p+t\n",
    "    print(\"Tax on your bike is\",t)\n",
    "    print(\"On road price of your bike is\",OnRoad)\n",
    "else:\n",
    "    t=p/100*15\n",
    "    OnRoad=p+t\n",
    "    print(\"Tax on your bike is\",t)\n",
    "    print(\"On road price of your bike is\",OnRoad)"
   ]
  },
  {
   "cell_type": "code",
   "execution_count": 6,
   "id": "f036dd6c",
   "metadata": {},
   "outputs": [
    {
     "name": "stdout",
     "output_type": "stream",
     "text": [
      "Enter starting range 1\n",
      "Enter ending range 10\n",
      "Gap between two numbers 2\n",
      "1\n",
      "3\n",
      "5\n",
      "7\n",
      "9\n"
     ]
    }
   ],
   "source": [
    "a=int(input(\"Enter starting range \"))\n",
    "b=int(input(\"Enter ending range \"))\n",
    "c=b+1\n",
    "d=int(input(\"Gap between two numbers \"))\n",
    "for i in range(a,c,d):\n",
    "    print(i)\n",
    "    "
   ]
  },
  {
   "cell_type": "code",
   "execution_count": 7,
   "id": "a3ced432",
   "metadata": {},
   "outputs": [
    {
     "ename": "TypeError",
     "evalue": "'float' object cannot be interpreted as an integer",
     "output_type": "error",
     "traceback": [
      "\u001b[1;31m---------------------------------------------------------------------------\u001b[0m",
      "\u001b[1;31mTypeError\u001b[0m                                 Traceback (most recent call last)",
      "Input \u001b[1;32mIn [7]\u001b[0m, in \u001b[0;36m<cell line: 1>\u001b[1;34m()\u001b[0m\n\u001b[1;32m----> 1\u001b[0m \u001b[38;5;28;01mfor\u001b[39;00m i \u001b[38;5;129;01min\u001b[39;00m \u001b[38;5;28;43mrange\u001b[39;49m\u001b[43m(\u001b[49m\u001b[38;5;241;43m1\u001b[39;49m\u001b[43m,\u001b[49m\u001b[38;5;241;43m10\u001b[39;49m\u001b[43m,\u001b[49m\u001b[38;5;241;43m0.5\u001b[39;49m\u001b[43m)\u001b[49m:\n\u001b[0;32m      2\u001b[0m     \u001b[38;5;28mprint\u001b[39m(i)\n",
      "\u001b[1;31mTypeError\u001b[0m: 'float' object cannot be interpreted as an integer"
     ]
    }
   ],
   "source": [
    "for i in range(1,10,0.5):\n",
    "    print(i)"
   ]
  },
  {
   "cell_type": "code",
   "execution_count": 29,
   "id": "b36a2a7f",
   "metadata": {},
   "outputs": [
    {
     "name": "stdout",
     "output_type": "stream",
     "text": [
      "1\n",
      "2\n",
      "3\n",
      "4\n",
      "5\n",
      "6\n",
      "7\n",
      "8\n",
      "9\n",
      "10\n",
      "11\n",
      "12\n",
      "13\n",
      "14\n",
      "15\n",
      "16\n",
      "17\n",
      "18\n",
      "19\n",
      "20\n",
      "21\n",
      "22\n",
      "23\n",
      "24\n",
      "25\n",
      "26\n",
      "27\n",
      "28\n",
      "29\n",
      "30\n",
      "31\n",
      "32\n",
      "33\n",
      "34\n",
      "35\n",
      "36\n",
      "37\n",
      "38\n",
      "39\n",
      "40\n",
      "41\n",
      "42\n",
      "43\n",
      "44\n",
      "45\n",
      "46\n",
      "47\n",
      "48\n",
      "49\n",
      "50\n"
     ]
    }
   ],
   "source": [
    "for i in range(1,51):\n",
    "    a=i*i*i*i*i*i*i*i*i\n",
    "    b=a**1\n",
    "    print(i)"
   ]
  },
  {
   "cell_type": "code",
   "execution_count": 46,
   "id": "94023ad1",
   "metadata": {},
   "outputs": [
    {
     "name": "stdout",
     "output_type": "stream",
     "text": [
      "Enter a number 36\n",
      "36 x 1 = 36\n",
      "36 x 2 = 72\n",
      "36 x 3 = 108\n",
      "36 x 4 = 144\n",
      "36 x 5 = 180\n",
      "36 x 6 = 216\n",
      "36 x 7 = 252\n",
      "36 x 8 = 288\n",
      "36 x 9 = 324\n",
      "36 x 10 = 360\n"
     ]
    }
   ],
   "source": [
    "a=int(input(\"Enter a number \"))\n",
    "\n",
    "for i in range(1,11):\n",
    "    b=a*i\n",
    "    print(a,\"x\",i,\"=\",b)"
   ]
  },
  {
   "cell_type": "code",
   "execution_count": 55,
   "id": "77e74933",
   "metadata": {},
   "outputs": [
    {
     "name": "stdout",
     "output_type": "stream",
     "text": [
      "Enter a number 658\n",
      "1\n",
      "2\n",
      "7\n",
      "14\n",
      "47\n",
      "94\n",
      "329\n",
      "658\n"
     ]
    }
   ],
   "source": [
    "a=int(input(\"Enter a number \"))\n",
    "b=a+1\n",
    "   \n",
    "for i in range(1,b):\n",
    "   if a%i==0:\n",
    "       print(i)\n",
    "   "
   ]
  }
 ],
 "metadata": {
  "kernelspec": {
   "display_name": "Python 3 (ipykernel)",
   "language": "python",
   "name": "python3"
  },
  "language_info": {
   "codemirror_mode": {
    "name": "ipython",
    "version": 3
   },
   "file_extension": ".py",
   "mimetype": "text/x-python",
   "name": "python",
   "nbconvert_exporter": "python",
   "pygments_lexer": "ipython3",
   "version": "3.9.7"
  }
 },
 "nbformat": 4,
 "nbformat_minor": 5
}
