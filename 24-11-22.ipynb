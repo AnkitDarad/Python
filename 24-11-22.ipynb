{
 "cells": [
  {
   "cell_type": "code",
   "execution_count": 4,
   "id": "7ff5358d",
   "metadata": {},
   "outputs": [
    {
     "name": "stdout",
     "output_type": "stream",
     "text": [
      "Enter a string darad\n",
      "darad\n",
      "darad is palindrom\n"
     ]
    }
   ],
   "source": [
    "def rev():\n",
    "    a=input(\"Enter a string \")\n",
    "    b=\"\"\n",
    "    for i in a:\n",
    "        b=i+b\n",
    "    print(b)\n",
    "    if a==b:\n",
    "        print(a,\"is palindrom\")\n",
    "    else:\n",
    "        print(a,\"is not palindrom\")\n",
    "rev()"
   ]
  },
  {
   "cell_type": "markdown",
   "id": "edcc9471",
   "metadata": {},
   "source": [
    "#  OPPs"
   ]
  },
  {
   "cell_type": "markdown",
   "id": "39797ee8",
   "metadata": {},
   "source": [
    "## Class"
   ]
  },
  {
   "cell_type": "code",
   "execution_count": 5,
   "id": "23de9767",
   "metadata": {},
   "outputs": [
    {
     "name": "stdout",
     "output_type": "stream",
     "text": [
      "a 34\n"
     ]
    }
   ],
   "source": [
    "class std:\n",
    "    def details(self,name,age):\n",
    "        print(name,age)\n",
    "s=std()\n",
    "s.details('a',34)"
   ]
  },
  {
   "cell_type": "code",
   "execution_count": 6,
   "id": "b1666cd8",
   "metadata": {},
   "outputs": [
    {
     "name": "stdout",
     "output_type": "stream",
     "text": [
      "79.33333333333333\n"
     ]
    }
   ],
   "source": [
    "# wap to find the avg of student in 3 subject.\n",
    "\n",
    "class std():\n",
    "    def marks(self,sub_1,sub_2,sub_3):\n",
    "        avg=(sub_1+sub_2+sub_3)/3\n",
    "        print(avg)\n",
    "s=std()\n",
    "s.marks(85,90,63)"
   ]
  },
  {
   "cell_type": "markdown",
   "id": "4583273a",
   "metadata": {},
   "source": [
    "## Constructor"
   ]
  },
  {
   "cell_type": "code",
   "execution_count": 7,
   "id": "7eaf3dca",
   "metadata": {},
   "outputs": [
    {
     "data": {
      "text/plain": [
       "'a'"
      ]
     },
     "execution_count": 7,
     "metadata": {},
     "output_type": "execute_result"
    }
   ],
   "source": [
    "class emp():\n",
    "    def __init__(self,name,sal):\n",
    "        self.name=name\n",
    "        self.sal=sal\n",
    "        \n",
    "e = emp('a',1)\n",
    "e.name"
   ]
  },
  {
   "cell_type": "code",
   "execution_count": 8,
   "id": "07d88c13",
   "metadata": {},
   "outputs": [
    {
     "data": {
      "text/plain": [
       "('a', 1)"
      ]
     },
     "execution_count": 8,
     "metadata": {},
     "output_type": "execute_result"
    }
   ],
   "source": [
    "e.name, e.sal"
   ]
  },
  {
   "cell_type": "code",
   "execution_count": 39,
   "id": "98f6e0ff",
   "metadata": {},
   "outputs": [
    {
     "name": "stdout",
     "output_type": "stream",
     "text": [
      "ABC 18\n",
      "69.0\n"
     ]
    }
   ],
   "source": [
    "class std():\n",
    "    def __init__(self,name,age,sub_1,sub_2,sub_3):\n",
    "        self.name=name\n",
    "        self.age=age\n",
    "        self.sub_1=sub_1\n",
    "        self.sub_2=sub_2\n",
    "        self.sub_3=sub_3\n",
    "    def marks(self):\n",
    "        avg=(self.sub_1+self.sub_2+self.sub_3)/3\n",
    "        print(avg)\n",
    "\n",
    "s = std('ABC',18,59,68,80)\n",
    "print(s.name, s.age)\n",
    "\n",
    "s.marks()\n"
   ]
  },
  {
   "cell_type": "code",
   "execution_count": null,
   "id": "10003194",
   "metadata": {},
   "outputs": [],
   "source": []
  },
  {
   "cell_type": "code",
   "execution_count": null,
   "id": "e76f7dee",
   "metadata": {},
   "outputs": [],
   "source": []
  }
 ],
 "metadata": {
  "kernelspec": {
   "display_name": "Python 3 (ipykernel)",
   "language": "python",
   "name": "python3"
  },
  "language_info": {
   "codemirror_mode": {
    "name": "ipython",
    "version": 3
   },
   "file_extension": ".py",
   "mimetype": "text/x-python",
   "name": "python",
   "nbconvert_exporter": "python",
   "pygments_lexer": "ipython3",
   "version": "3.9.7"
  }
 },
 "nbformat": 4,
 "nbformat_minor": 5
}
