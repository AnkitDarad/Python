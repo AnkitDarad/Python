{
 "cells": [
  {
   "cell_type": "code",
   "execution_count": 3,
   "id": "0286dd9c",
   "metadata": {},
   "outputs": [
    {
     "name": "stdout",
     "output_type": "stream",
     "text": [
      "('abc', True, 15, 36, 3.56, 'python', False)\n"
     ]
    },
    {
     "data": {
      "text/plain": [
       "tuple"
      ]
     },
     "execution_count": 3,
     "metadata": {},
     "output_type": "execute_result"
    }
   ],
   "source": [
    "# Write a Python program to create a tuple.\n",
    "\n",
    "a=('abc',True,15,36,3.56,'python',False)\n",
    "print(a)\n",
    "type(a)"
   ]
  },
  {
   "cell_type": "code",
   "execution_count": 4,
   "id": "3d28cc2a",
   "metadata": {},
   "outputs": [
    {
     "name": "stdout",
     "output_type": "stream",
     "text": [
      "('python', 100, True, 11.5)\n"
     ]
    },
    {
     "data": {
      "text/plain": [
       "tuple"
      ]
     },
     "execution_count": 4,
     "metadata": {},
     "output_type": "execute_result"
    }
   ],
   "source": [
    "# Write a Python program to create a tuple with different data types.\n",
    "\n",
    "a=('python',100,True,11.5)\n",
    "print(a)\n",
    "type(a)"
   ]
  },
  {
   "cell_type": "code",
   "execution_count": 7,
   "id": "e44e26bc",
   "metadata": {},
   "outputs": [
    {
     "name": "stdout",
     "output_type": "stream",
     "text": [
      "22\n"
     ]
    }
   ],
   "source": [
    "# Write a Python program to create a tuple with numbers and print one item.\n",
    "\n",
    "a=(12,35,45,22,3,11)\n",
    "print(a[3])"
   ]
  },
  {
   "cell_type": "code",
   "execution_count": 9,
   "id": "5ee050bd",
   "metadata": {},
   "outputs": [
    {
     "name": "stdout",
     "output_type": "stream",
     "text": [
      "(12, 35, 45, 22, 3, 11)\n",
      "(12, 35, 45, 22, 3, 11, 50)\n"
     ]
    }
   ],
   "source": [
    "# Write a Python program to add an item in a tuple.\n",
    "\n",
    "a=(12,35,45,22,3,11)\n",
    "print(a)\n",
    "b=list(a)\n",
    "b.append(50)\n",
    "c=tuple(b)\n",
    "print(c)"
   ]
  },
  {
   "cell_type": "code",
   "execution_count": 79,
   "id": "a31753dc",
   "metadata": {
    "scrolled": true
   },
   "outputs": [
    {
     "name": "stdout",
     "output_type": "stream",
     "text": [
      "('abc', True, 15, 36, 3.56, 'python', False)\n"
     ]
    },
    {
     "data": {
      "text/plain": [
       "str"
      ]
     },
     "execution_count": 79,
     "metadata": {},
     "output_type": "execute_result"
    }
   ],
   "source": [
    "# Write a Python program to convert a tuple to a string.\n",
    "\n",
    "a=('abc',True,15,36,3.56,'python',False)\n",
    "b=str(a)\n",
    "print(b)\n",
    "type(b)"
   ]
  },
  {
   "cell_type": "code",
   "execution_count": 17,
   "id": "3d6ad6c6",
   "metadata": {},
   "outputs": [
    {
     "name": "stdout",
     "output_type": "stream",
     "text": [
      "[12, 51, 5, 15, 6]\n",
      "(12, 51, 5, 15, 6)\n"
     ]
    }
   ],
   "source": [
    "# Write a Python program to convert a list to a tuple.\n",
    "\n",
    "a=[12,51,5,15,6]\n",
    "print(a)\n",
    "b=tuple(a)\n",
    "print(b)"
   ]
  },
  {
   "cell_type": "code",
   "execution_count": 19,
   "id": "d11564e1",
   "metadata": {},
   "outputs": [
    {
     "name": "stdout",
     "output_type": "stream",
     "text": [
      "(12, 35, 45, 22, 3, 11)\n",
      "(12, 35, 45, 22, 3)\n"
     ]
    }
   ],
   "source": [
    "# Write a Python program to remove an item from a tuple.\n",
    "\n",
    "a=(12,35,45,22,3,11)\n",
    "print(a)\n",
    "b=list(a)\n",
    "b.pop()\n",
    "c=tuple(b)\n",
    "print(c)"
   ]
  },
  {
   "cell_type": "code",
   "execution_count": 20,
   "id": "d0f4937d",
   "metadata": {},
   "outputs": [
    {
     "data": {
      "text/plain": [
       "2"
      ]
     },
     "execution_count": 20,
     "metadata": {},
     "output_type": "execute_result"
    }
   ],
   "source": [
    "# Write a Python program to find the index of an item of a tuple.\n",
    "\n",
    "a=(12,35,45,22,3,11)\n",
    "a.index(45)"
   ]
  },
  {
   "cell_type": "code",
   "execution_count": 22,
   "id": "630bc9e1",
   "metadata": {},
   "outputs": [
    {
     "name": "stdout",
     "output_type": "stream",
     "text": [
      "(12, 35, 45, 22, 3, 11)\n",
      "(11, 3, 22, 45, 35, 12)\n"
     ]
    }
   ],
   "source": [
    "# Write a Python program to reverse a tuple.\n",
    "\n",
    "a=(12,35,45,22,3,11)\n",
    "print(a)\n",
    "b=list(a)\n",
    "b.reverse()\n",
    "c=tuple(b)\n",
    "print(c)"
   ]
  },
  {
   "cell_type": "code",
   "execution_count": 23,
   "id": "e06ba65b",
   "metadata": {},
   "outputs": [
    {
     "name": "stdout",
     "output_type": "stream",
     "text": [
      "-864\n"
     ]
    }
   ],
   "source": [
    "# Write a Python program calculate the product, multiplying all the numbers of a given tuple. \n",
    "# Original Tuple: (4, 3, 2, 2, -1, 18)\n",
    "\n",
    "t=(4, 3, 2, 2, -1, 18)\n",
    "mul=1\n",
    "for i in t:\n",
    "    mul=mul*i\n",
    "print(mul)"
   ]
  },
  {
   "cell_type": "code",
   "execution_count": 24,
   "id": "dea42bf0",
   "metadata": {},
   "outputs": [
    {
     "name": "stdout",
     "output_type": "stream",
     "text": [
      "[12, 35, 45, 22, 3, 11, 4, 3, 2, 2, -1, 18]\n"
     ]
    }
   ],
   "source": [
    "# Python – Adding Tuple to List.\n",
    "\n",
    "a=[12,35,45,22,3,11]\n",
    "t=(4, 3, 2, 2, -1, 18)\n",
    "b=list(t)\n",
    "for i in b:\n",
    "    a.append(i)\n",
    "print(a)"
   ]
  },
  {
   "cell_type": "code",
   "execution_count": 25,
   "id": "b4724fa1",
   "metadata": {},
   "outputs": [
    {
     "name": "stdout",
     "output_type": "stream",
     "text": [
      "(4, 3, 2, 2, -1, 18, 12, 35, 45, 22, 3, 11)\n"
     ]
    }
   ],
   "source": [
    "# Python – Adding List to Tuple.\n",
    "\n",
    "a=[12,35,45,22,3,11]\n",
    "t=(4, 3, 2, 2, -1, 18)\n",
    "b=list(t)\n",
    "for i in a:\n",
    "    b.append(i)\n",
    "c=tuple(b)\n",
    "print(c)"
   ]
  },
  {
   "cell_type": "code",
   "execution_count": null,
   "id": "b2b1e5fd",
   "metadata": {},
   "outputs": [],
   "source": [
    "# Python program to find tuples which have all elements divisible by K from a list of tuples.\n",
    "\n"
   ]
  },
  {
   "cell_type": "code",
   "execution_count": 65,
   "id": "2bfa4900",
   "metadata": {},
   "outputs": [
    {
     "name": "stdout",
     "output_type": "stream",
     "text": [
      "(3, 6, 4, 6, 5, 1, 2, 7)\n"
     ]
    }
   ],
   "source": [
    "# Python – Removing duplicates from tuple.\n",
    "\n",
    "a=(1,2,4,3,1,6,4,2,6,5,1,2,7,7)\n",
    "b=list(a)\n",
    "for i in b:\n",
    "    if b.count(i)>1:\n",
    "        b.remove(i)\n",
    "c=tuple(b)        \n",
    "print(c)"
   ]
  },
  {
   "cell_type": "code",
   "execution_count": null,
   "id": "87666c26",
   "metadata": {},
   "outputs": [],
   "source": []
  }
 ],
 "metadata": {
  "kernelspec": {
   "display_name": "Python 3 (ipykernel)",
   "language": "python",
   "name": "python3"
  },
  "language_info": {
   "codemirror_mode": {
    "name": "ipython",
    "version": 3
   },
   "file_extension": ".py",
   "mimetype": "text/x-python",
   "name": "python",
   "nbconvert_exporter": "python",
   "pygments_lexer": "ipython3",
   "version": "3.9.7"
  }
 },
 "nbformat": 4,
 "nbformat_minor": 5
}
