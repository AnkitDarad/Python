{
 "cells": [
  {
   "cell_type": "code",
   "execution_count": 3,
   "id": "a47c394c",
   "metadata": {},
   "outputs": [],
   "source": [
    "emp={\n",
    "    'emp_id':1,\n",
    "    'salary':10000\n",
    "}"
   ]
  },
  {
   "cell_type": "code",
   "execution_count": 4,
   "id": "c959b3fb",
   "metadata": {},
   "outputs": [
    {
     "name": "stdout",
     "output_type": "stream",
     "text": [
      "{'emp_id': 1, 'salary': 10000}\n"
     ]
    }
   ],
   "source": [
    "print(emp)"
   ]
  },
  {
   "cell_type": "code",
   "execution_count": 5,
   "id": "39957640",
   "metadata": {},
   "outputs": [
    {
     "data": {
      "text/plain": [
       "dict"
      ]
     },
     "execution_count": 5,
     "metadata": {},
     "output_type": "execute_result"
    }
   ],
   "source": [
    "type(emp)"
   ]
  },
  {
   "cell_type": "markdown",
   "id": "123b8844",
   "metadata": {},
   "source": [
    "# Slicing"
   ]
  },
  {
   "cell_type": "code",
   "execution_count": 8,
   "id": "94687660",
   "metadata": {},
   "outputs": [
    {
     "data": {
      "text/plain": [
       "10000"
      ]
     },
     "execution_count": 8,
     "metadata": {},
     "output_type": "execute_result"
    }
   ],
   "source": [
    "emp['salary']"
   ]
  },
  {
   "cell_type": "code",
   "execution_count": 9,
   "id": "28d7b956",
   "metadata": {},
   "outputs": [],
   "source": [
    "s={\n",
    "    'name':['A','B','C'],\n",
    "    'age':(34,45,23),\n",
    "    'marks':(56,90,1)\n",
    "}"
   ]
  },
  {
   "cell_type": "code",
   "execution_count": 10,
   "id": "a6f808c1",
   "metadata": {},
   "outputs": [
    {
     "name": "stdout",
     "output_type": "stream",
     "text": [
      "{'name': ['A', 'B', 'C'], 'age': (34, 45, 23), 'marks': (56, 90, 1)}\n"
     ]
    }
   ],
   "source": [
    "print(s)"
   ]
  },
  {
   "cell_type": "code",
   "execution_count": 18,
   "id": "0a80d8cd",
   "metadata": {},
   "outputs": [
    {
     "data": {
      "text/plain": [
       "56"
      ]
     },
     "execution_count": 18,
     "metadata": {},
     "output_type": "execute_result"
    }
   ],
   "source": [
    "s['marks'][0]"
   ]
  },
  {
   "cell_type": "code",
   "execution_count": 22,
   "id": "29832023",
   "metadata": {},
   "outputs": [],
   "source": [
    "s['name'][0]='X'"
   ]
  },
  {
   "cell_type": "code",
   "execution_count": 24,
   "id": "6abcc4c2",
   "metadata": {},
   "outputs": [],
   "source": [
    "s['name'][1]='Y'"
   ]
  },
  {
   "cell_type": "code",
   "execution_count": 25,
   "id": "b58b40b1",
   "metadata": {},
   "outputs": [],
   "source": [
    "s['name'][2]='Z'"
   ]
  },
  {
   "cell_type": "code",
   "execution_count": 26,
   "id": "a2b39f0d",
   "metadata": {},
   "outputs": [
    {
     "name": "stdout",
     "output_type": "stream",
     "text": [
      "{'name': ['X', 'Y', 'Z'], 'age': (34, 45, 23), 'marks': (56, 90, 1)}\n"
     ]
    }
   ],
   "source": [
    "print(s)"
   ]
  },
  {
   "cell_type": "code",
   "execution_count": 27,
   "id": "b0669ebd",
   "metadata": {},
   "outputs": [],
   "source": [
    "s['name']=['X','Y','Z']"
   ]
  },
  {
   "cell_type": "code",
   "execution_count": 28,
   "id": "8d6ab944",
   "metadata": {},
   "outputs": [
    {
     "data": {
      "text/plain": [
       "{'name': ['X', 'Y', 'Z'], 'age': (34, 45, 23), 'marks': (56, 90, 1)}"
      ]
     },
     "execution_count": 28,
     "metadata": {},
     "output_type": "execute_result"
    }
   ],
   "source": [
    "s"
   ]
  },
  {
   "cell_type": "code",
   "execution_count": 37,
   "id": "8ade952b",
   "metadata": {},
   "outputs": [],
   "source": [
    "# wap to make an empty dict.\n",
    "\n",
    "a={\n",
    "    \n",
    "}"
   ]
  },
  {
   "cell_type": "code",
   "execution_count": 38,
   "id": "ec7ea79d",
   "metadata": {},
   "outputs": [
    {
     "data": {
      "text/plain": [
       "{}"
      ]
     },
     "execution_count": 38,
     "metadata": {},
     "output_type": "execute_result"
    }
   ],
   "source": [
    "a"
   ]
  },
  {
   "cell_type": "code",
   "execution_count": 39,
   "id": "535e9aeb",
   "metadata": {},
   "outputs": [],
   "source": [
    "# wap to make an single element dict.\n",
    "\n",
    "b={\n",
    "    \"A\":1\n",
    "}"
   ]
  },
  {
   "cell_type": "code",
   "execution_count": 40,
   "id": "cde7f216",
   "metadata": {},
   "outputs": [
    {
     "data": {
      "text/plain": [
       "{'A': 1}"
      ]
     },
     "execution_count": 40,
     "metadata": {},
     "output_type": "execute_result"
    }
   ],
   "source": [
    "b"
   ]
  },
  {
   "cell_type": "code",
   "execution_count": 43,
   "id": "5a6a2804",
   "metadata": {},
   "outputs": [],
   "source": [
    "# wap to make a dict inside dict.\n",
    "\n",
    "c={\n",
    "    'name':123,\n",
    "    'A':{\n",
    "        'ABC':'XYX',\n",
    "        'marks':12\n",
    "    }\n",
    "}"
   ]
  },
  {
   "cell_type": "code",
   "execution_count": 44,
   "id": "abf1836e",
   "metadata": {},
   "outputs": [
    {
     "data": {
      "text/plain": [
       "{'name': 123, 'A': {'ABC': 'XYX', 'marks': 12}}"
      ]
     },
     "execution_count": 44,
     "metadata": {},
     "output_type": "execute_result"
    }
   ],
   "source": [
    "c"
   ]
  },
  {
   "cell_type": "code",
   "execution_count": 45,
   "id": "0410fbbd",
   "metadata": {},
   "outputs": [
    {
     "data": {
      "text/plain": [
       "12"
      ]
     },
     "execution_count": 45,
     "metadata": {},
     "output_type": "execute_result"
    }
   ],
   "source": [
    "c['A']['marks']"
   ]
  },
  {
   "cell_type": "markdown",
   "id": "3306a4b0",
   "metadata": {},
   "source": [
    "# To be done\n",
    "keys, vales, items, update"
   ]
  },
  {
   "cell_type": "code",
   "execution_count": 51,
   "id": "e7a84f0e",
   "metadata": {},
   "outputs": [
    {
     "data": {
      "text/plain": [
       "dict_items([('name', ['X', 'Y', 'Z']), ('age', (34, 45, 23)), ('marks', (56, 90, 1))])"
      ]
     },
     "execution_count": 51,
     "metadata": {},
     "output_type": "execute_result"
    }
   ],
   "source": [
    "s.items()"
   ]
  },
  {
   "cell_type": "code",
   "execution_count": null,
   "id": "dcad327d",
   "metadata": {},
   "outputs": [],
   "source": []
  }
 ],
 "metadata": {
  "kernelspec": {
   "display_name": "Python 3 (ipykernel)",
   "language": "python",
   "name": "python3"
  },
  "language_info": {
   "codemirror_mode": {
    "name": "ipython",
    "version": 3
   },
   "file_extension": ".py",
   "mimetype": "text/x-python",
   "name": "python",
   "nbconvert_exporter": "python",
   "pygments_lexer": "ipython3",
   "version": "3.9.7"
  }
 },
 "nbformat": 4,
 "nbformat_minor": 5
}
