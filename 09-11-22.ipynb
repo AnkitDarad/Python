{
 "cells": [
  {
   "cell_type": "code",
   "execution_count": 2,
   "id": "ddea0721",
   "metadata": {},
   "outputs": [
    {
     "name": "stdout",
     "output_type": "stream",
     "text": [
      "1st Number 5\n",
      "2nd Number 9\n",
      "Sum = 14\n"
     ]
    }
   ],
   "source": [
    "a = int(input(\"1st Number \"))\n",
    "b = int(input(\"2nd Number \"))\n",
    "c = a + b\n",
    "print(\"Sum =\",c)"
   ]
  },
  {
   "cell_type": "code",
   "execution_count": 3,
   "id": "2c27d398",
   "metadata": {},
   "outputs": [
    {
     "name": "stdout",
     "output_type": "stream",
     "text": [
      "1st Number 5\n",
      "2nd Number 6.4\n",
      "Sum = 11.4\n"
     ]
    }
   ],
   "source": [
    "a = int(input(\"1st Number \"))\n",
    "b = float(input(\"2nd Number \"))\n",
    "c = a + b\n",
    "print(\"Sum =\",c)"
   ]
  },
  {
   "cell_type": "code",
   "execution_count": 7,
   "id": "3d31f3a5",
   "metadata": {},
   "outputs": [
    {
     "name": "stdout",
     "output_type": "stream",
     "text": [
      "Age 18\n",
      "First time voter\n"
     ]
    }
   ],
   "source": [
    "age = int(input(\"Age \"))\n",
    "if age>18:\n",
    "    print(\"You may vote\")\n",
    "elif age==18:\n",
    "    print(\"First time voter\")\n",
    "else:\n",
    "    print(\"You can not vote\")"
   ]
  },
  {
   "cell_type": "markdown",
   "id": "db712c87",
   "metadata": {},
   "source": [
    "# 1. A company decided to give bonus of 5% to employee if his/her year of service is more than 5 years. Ask user for their salary and year of service and print the net bonus amount.\n"
   ]
  },
  {
   "cell_type": "code",
   "execution_count": 3,
   "id": "a9f030a7",
   "metadata": {},
   "outputs": [
    {
     "name": "stdout",
     "output_type": "stream",
     "text": [
      "Your year of service 6\n",
      "Your salary 10000\n",
      "You will get bonus of 500.0\n",
      "Your net salary is 10500.0\n"
     ]
    }
   ],
   "source": [
    "y=int(input(\"Your year of service \"))\n",
    "s=int(input(\"Your salary \"))\n",
    "b=s/100*5\n",
    "n=s+b\n",
    "if y>5:\n",
    "    print(\"You will get bonus of\",b)\n",
    "    print (\"Your net salary is\", n)\n",
    "else:\n",
    "    print(\"You will not get bonus\")\n",
    "    print (\"Your net salary is\", s)"
   ]
  },
  {
   "cell_type": "markdown",
   "id": "64d3c3e0",
   "metadata": {},
   "source": [
    "# 2. Take values of length and breadth of a rectangle from user and check if it is square or not."
   ]
  },
  {
   "cell_type": "code",
   "execution_count": 10,
   "id": "01182b1a",
   "metadata": {},
   "outputs": [
    {
     "name": "stdout",
     "output_type": "stream",
     "text": [
      "Length 6\n",
      "Breadth 6\n",
      "It is a square\n"
     ]
    }
   ],
   "source": [
    "l=int(input(\"Length \"))\n",
    "b=int(input(\"Breadth \"))\n",
    "if l==b:\n",
    "    print(\"It is a square\")\n",
    "else:\n",
    "    print(\"It is not a square\")"
   ]
  },
  {
   "cell_type": "markdown",
   "id": "a08eac14",
   "metadata": {},
   "source": [
    "# 3. Take two int values from user and print greatest among them."
   ]
  },
  {
   "cell_type": "code",
   "execution_count": 13,
   "id": "65e86c71",
   "metadata": {},
   "outputs": [
    {
     "name": "stdout",
     "output_type": "stream",
     "text": [
      "1st Number 8\n",
      "2nd Number 2\n",
      "1st number is greater\n"
     ]
    }
   ],
   "source": [
    "a = int(input(\"1st Number \"))\n",
    "b = int(input(\"2nd Number \"))\n",
    "if a>b:\n",
    "    print(\"1st number is greater\")\n",
    "elif a==b:\n",
    "    print(\"Both numbers are equal\")\n",
    "else:\n",
    "    print(\"2nd number is greater\")"
   ]
  },
  {
   "cell_type": "markdown",
   "id": "64537600",
   "metadata": {},
   "source": [
    "# 4. A shop will give discount of 10% if the cost of purchased quantity is more than 1000.Ask user for quantity. Suppose, one unit will cost 100. Judge and print total cost for user.\n"
   ]
  },
  {
   "cell_type": "code",
   "execution_count": 20,
   "id": "cafe0b2a",
   "metadata": {},
   "outputs": [
    {
     "name": "stdout",
     "output_type": "stream",
     "text": [
      "Total number of purchased item 10\n",
      "Amount to pay = 900.0\n"
     ]
    }
   ],
   "source": [
    "a=int(input(\"Total number of purchased item \"))\n",
    "x=a*100\n",
    "if x>=1000:\n",
    "    b=x/100*10\n",
    "    c=x-b\n",
    "    print(\"Amount to pay =\",c)\n",
    "else:\n",
    "    print(\"Amount to pay =\",x)"
   ]
  },
  {
   "cell_type": "markdown",
   "id": "a8edc9b4",
   "metadata": {},
   "source": [
    "# 5. A school has following rules for grading system: \n",
    "a. Below 25 - F\n",
    "b. 25 to 45 - E\n",
    "c. 45 to 50 - D\n",
    "d. 50 to 60 - C\n",
    "e. 60 to 80 - B\n",
    "f. Above 80 - A\n",
    "Ask user to enter marks and print the corresponding grade.\n"
   ]
  },
  {
   "cell_type": "code",
   "execution_count": 25,
   "id": "247d2a46",
   "metadata": {},
   "outputs": [
    {
     "name": "stdout",
     "output_type": "stream",
     "text": [
      "Enter your marks 59\n",
      "Your grade is C\n"
     ]
    }
   ],
   "source": [
    "m=int(input(\"Enter your marks \"))\n",
    "if m<25:\n",
    "    print(\"Your grade is F\")\n",
    "elif m>=25 and m<45:\n",
    "    print(\"Your grade is E\")\n",
    "elif m>=45 and m<50:\n",
    "    print(\"Your grade is D\")\n",
    "elif m>=50 and m<60:\n",
    "    print(\"Your grade is C\")\n",
    "elif m>=60 and m<80:\n",
    "    print(\"Your grade is B\")\n",
    "elif m>=80:\n",
    "    print(\"Your grade is A\")"
   ]
  },
  {
   "cell_type": "markdown",
   "id": "f8cb47fe",
   "metadata": {},
   "source": [
    "# 6. Take input of age of 3 people by user and determine oldest and youngest among them."
   ]
  },
  {
   "cell_type": "code",
   "execution_count": 30,
   "id": "875d71dc",
   "metadata": {},
   "outputs": [
    {
     "name": "stdout",
     "output_type": "stream",
     "text": [
      "Age of 1st person 2\n",
      "Age of 2nd person 3\n",
      "Age of 3rd person 1\n",
      "2nd person is oldest\n",
      "3rd person is youngest\n"
     ]
    }
   ],
   "source": [
    "a = int(input(\"Age of 1st person \"))\n",
    "b = int(input(\"Age of 2nd person \"))\n",
    "c = int(input(\"Age of 3rd person \"))\n",
    "\n",
    "if a>b and a>c:\n",
    "    print(\"1st person is oldest\")\n",
    "    if b>c:\n",
    "        print(\"3rd person is youngest\")\n",
    "    else:\n",
    "        print(\"2nd person is youngest\")\n",
    "\n",
    "if b>a and b>c:\n",
    "    print(\"2nd person is oldest\")\n",
    "    if a>c:\n",
    "        print(\"3rd person is youngest\")\n",
    "    else:\n",
    "        print(\"1st person is youngest\")\n",
    "    \n",
    "if c>b and c>a:\n",
    "    print(\"3rd person is oldest\")\n",
    "    if a>b:\n",
    "        print(\"2nd person is youngest\")\n",
    "    else:\n",
    "        print(\"1st person is youngest\")"
   ]
  },
  {
   "cell_type": "markdown",
   "id": "a88b640b",
   "metadata": {},
   "source": [
    "# 8. A student will not be allowed to sit in exam if his/her attendence is less than 75%. \n",
    "Take following input from user\n",
    "Number of classes held\n",
    "Number of classes attended.\n",
    "And print\n",
    "percentage of class attended\n",
    "Is student is allowed to sit in exam or not.\n"
   ]
  },
  {
   "cell_type": "code",
   "execution_count": 36,
   "id": "79946b5d",
   "metadata": {},
   "outputs": [
    {
     "name": "stdout",
     "output_type": "stream",
     "text": [
      "Total number of classes 53\n",
      "Total number of classes attended 35\n",
      "Your attendance is 66.0377358490566 %\n",
      "You are not allowed to sit in the exam\n"
     ]
    }
   ],
   "source": [
    "t=int(input(\"Total number of classes \"))\n",
    "a=int(input(\"Total number of classes attended \"))\n",
    "p=a/t*100\n",
    "if p<75:\n",
    "    print(\"Your attendance is\",p,\"%\")\n",
    "    print(\"You are not allowed to sit in the exam\")\n",
    "else:\n",
    "    print(\"Your attendance is\",p,\"%\")\n",
    "    print(\"You are allowed to sit in the exam\")"
   ]
  },
  {
   "cell_type": "markdown",
   "id": "1e71a728",
   "metadata": {},
   "source": [
    "# 9. Modify the above question to allow student to sit if he/she has medical cause. Ask user if he/she has medical cause or not ( 'Y' or 'N' ) and print accordingly."
   ]
  },
  {
   "cell_type": "code",
   "execution_count": 45,
   "id": "69ecc7df",
   "metadata": {},
   "outputs": [
    {
     "name": "stdout",
     "output_type": "stream",
     "text": [
      "Total number of classes 67\n",
      "Total number of classes attended 39\n",
      "Your attendance is 58.2089552238806 %\n",
      "Do you have any medical cause (Reply with Y or N) Y\n",
      "You are allowed to sit in the exam\n"
     ]
    }
   ],
   "source": [
    "t=int(input(\"Total number of classes \"))\n",
    "a=int(input(\"Total number of classes attended \"))\n",
    "p=a/t*100\n",
    "\n",
    "if p<75:\n",
    "    print(\"Your attendance is\",p,\"%\")\n",
    "    m=input(\"Do you have any medical cause (Reply with Y or N) \")\n",
    "    if m==\"Y\":\n",
    "        print(\"You are allowed to sit in the exam\")\n",
    "    elif m==\"N\":\n",
    "        print(\"You are not allowed to sit in the exam\")\n",
    "    else:\n",
    "        print(\"Wrong input\")\n",
    "\n",
    "else:\n",
    "    print(\"Your attendance is\",p,\"%\")\n",
    "    print(\"You are allowed to sit in the exam\")"
   ]
  },
  {
   "cell_type": "code",
   "execution_count": null,
   "id": "00aa6cdc",
   "metadata": {},
   "outputs": [],
   "source": []
  }
 ],
 "metadata": {
  "kernelspec": {
   "display_name": "Python 3 (ipykernel)",
   "language": "python",
   "name": "python3"
  },
  "language_info": {
   "codemirror_mode": {
    "name": "ipython",
    "version": 3
   },
   "file_extension": ".py",
   "mimetype": "text/x-python",
   "name": "python",
   "nbconvert_exporter": "python",
   "pygments_lexer": "ipython3",
   "version": "3.9.7"
  }
 },
 "nbformat": 4,
 "nbformat_minor": 5
}
