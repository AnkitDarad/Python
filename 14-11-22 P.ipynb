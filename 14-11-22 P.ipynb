{
 "cells": [
  {
   "cell_type": "code",
   "execution_count": 1,
   "id": "79863a8c",
   "metadata": {},
   "outputs": [
    {
     "name": "stdout",
     "output_type": "stream",
     "text": [
      "55\n"
     ]
    }
   ],
   "source": [
    "given_number = 10\n",
    "sum = 0 \n",
    "for i in range(1,given_number+1):\n",
    "        sum+=i\n",
    "print(sum)\n"
   ]
  },
  {
   "cell_type": "code",
   "execution_count": 2,
   "id": "da4139f5",
   "metadata": {},
   "outputs": [
    {
     "name": "stdout",
     "output_type": "stream",
     "text": [
      "25\n"
     ]
    }
   ],
   "source": [
    "given_range = 10\n",
    "sum = 0 \n",
    "for i in range(given_range):\n",
    "        if i%2!=0:\n",
    "                sum+=i\n",
    "print(sum)\n"
   ]
  },
  {
   "cell_type": "code",
   "execution_count": 3,
   "id": "2af91711",
   "metadata": {},
   "outputs": [
    {
     "name": "stdout",
     "output_type": "stream",
     "text": [
      "6\n"
     ]
    }
   ],
   "source": [
    "given_number = 129475\n",
    "given_number = str(given_number)\n",
    "count=0\n",
    "for i in given_number:\n",
    "        count += 1\n",
    "print(count)"
   ]
  },
  {
   "cell_type": "code",
   "execution_count": 4,
   "id": "ea459409",
   "metadata": {},
   "outputs": [
    {
     "name": "stdout",
     "output_type": "stream",
     "text": [
      "The string madam is a Palindrome.\n"
     ]
    }
   ],
   "source": [
    "given_string = \"madam\"\n",
    "reverse_string = \"\"\n",
    "for i in given_string:\n",
    "    reverse_string = i + reverse_string  \n",
    "if(given_string == reverse_string):\n",
    "   print(\"The string\", given_string,\"is a Palindrome.\")\n",
    "else:\n",
    "   print(\"The string\",given_string,\"is NOT a Palindrome.\")\n"
   ]
  },
  {
   "cell_type": "code",
   "execution_count": 5,
   "id": "7025c1fa",
   "metadata": {},
   "outputs": [
    {
     "name": "stdout",
     "output_type": "stream",
     "text": [
      "ankit\n",
      "tikna\n"
     ]
    }
   ],
   "source": [
    "given_string = input()\n",
    "reverse_string = \"\"\n",
    "for i in given_string:\n",
    "    reverse_string = i + reverse_string  \n",
    "print(reverse_string)\n"
   ]
  },
  {
   "cell_type": "code",
   "execution_count": 6,
   "id": "e3aaf759",
   "metadata": {},
   "outputs": [
    {
     "name": "stdout",
     "output_type": "stream",
     "text": [
      "The given number 153 is an Amstrong number.\n"
     ]
    }
   ],
   "source": [
    "given_number = 153\n",
    "given_number = str(given_number)\n",
    "string_length = len(given_number)\n",
    "\n",
    "sum = 0\n",
    " \n",
    "for i in given_number:\n",
    "    sum += int(i)**string_length\n",
    "\n",
    "if sum == int(given_number):\n",
    "    print(\"The given number\",given_number,\"is an Amstrong number.\")\n",
    "\n",
    "else:\n",
    "    print(\"The given number\",given_number,\"is Not an Amstrong number.\")\n",
    "\n"
   ]
  },
  {
   "cell_type": "code",
   "execution_count": 7,
   "id": "803486d2",
   "metadata": {},
   "outputs": [
    {
     "name": "stdout",
     "output_type": "stream",
     "text": [
      "1 is an odd number.\n",
      "3 is an odd number.\n",
      "5 is an odd number.\n",
      "6 is an even number.\n",
      "99 is an odd number.\n",
      "134 is an even number.\n",
      "55 is an odd number.\n"
     ]
    }
   ],
   "source": [
    "num_list = [1,3,5,6,99,134,55] \n",
    "for i in num_list:\n",
    " \n",
    "    if i%2==0:\n",
    "        print(i,\"is an even number.\")\n",
    "    else:\n",
    "        print(i,\"is an odd number.\")\n"
   ]
  },
  {
   "cell_type": "code",
   "execution_count": 8,
   "id": "1384d39b",
   "metadata": {},
   "outputs": [
    {
     "name": "stdout",
     "output_type": "stream",
     "text": [
      "Non-prime numbers between 10 and 30 are:\n",
      "10\n",
      "12\n",
      "14\n",
      "15\n",
      "16\n",
      "18\n",
      "20\n",
      "21\n",
      "22\n",
      "24\n",
      "25\n",
      "26\n",
      "27\n",
      "28\n"
     ]
    }
   ],
   "source": [
    "import math\n",
    "\n",
    "def is_not_prime(n):\n",
    "\n",
    "    flag = False\n",
    "\n",
    "    for i in range(2, int(math.sqrt(n)) + 1):\n",
    " \n",
    "        # condition to check if a\n",
    "        # number is prime or not\n",
    "        if n % i == 0:\n",
    "            flag = True\n",
    "    return flag\n",
    "\n",
    "range_starts = 10\n",
    "\n",
    "range_ends = 30\n",
    "print(\"Non-prime numbers between\",range_starts,\"and\", range_ends,\"are:\")\n",
    " \n",
    "for number in filter(is_not_prime, range(range_starts, range_ends)):\n",
    "    print(number)\n"
   ]
  },
  {
   "cell_type": "code",
   "execution_count": null,
   "id": "2105dd58",
   "metadata": {},
   "outputs": [],
   "source": []
  }
 ],
 "metadata": {
  "kernelspec": {
   "display_name": "Python 3 (ipykernel)",
   "language": "python",
   "name": "python3"
  },
  "language_info": {
   "codemirror_mode": {
    "name": "ipython",
    "version": 3
   },
   "file_extension": ".py",
   "mimetype": "text/x-python",
   "name": "python",
   "nbconvert_exporter": "python",
   "pygments_lexer": "ipython3",
   "version": "3.9.7"
  }
 },
 "nbformat": 4,
 "nbformat_minor": 5
}
