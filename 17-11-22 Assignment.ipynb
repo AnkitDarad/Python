{
 "cells": [
  {
   "cell_type": "code",
   "execution_count": 2,
   "id": "46f5a829",
   "metadata": {},
   "outputs": [
    {
     "name": "stdout",
     "output_type": "stream",
     "text": [
      "['Python', 10, True, 57.5]\n",
      "['Python', 57.5, True, 10]\n"
     ]
    }
   ],
   "source": [
    "# Python program to swap two elements in a list.\n",
    "\n",
    "a=['Python',10,True,57.5]\n",
    "print(a)\n",
    "a[1],a[3]=a[3],a[1]\n",
    "print(a)"
   ]
  },
  {
   "cell_type": "code",
   "execution_count": 4,
   "id": "5b7b0dd9",
   "metadata": {},
   "outputs": [
    {
     "name": "stdout",
     "output_type": "stream",
     "text": [
      "90\n"
     ]
    }
   ],
   "source": [
    "# Maximum of numbers in a list.\n",
    "\n",
    "a=[15,35,16,77,59,90]\n",
    "a.sort()\n",
    "print(a[-1])"
   ]
  },
  {
   "cell_type": "code",
   "execution_count": 5,
   "id": "9b275f12",
   "metadata": {},
   "outputs": [
    {
     "name": "stdout",
     "output_type": "stream",
     "text": [
      "15\n"
     ]
    }
   ],
   "source": [
    "# Minimum of  numbers in list.\n",
    "\n",
    "a=[15,35,16,77,59,90]\n",
    "a.sort()\n",
    "print(a[0])"
   ]
  },
  {
   "cell_type": "code",
   "execution_count": 6,
   "id": "ec055234",
   "metadata": {},
   "outputs": [
    {
     "name": "stdout",
     "output_type": "stream",
     "text": [
      "['Python', 10, True, 57.5]\n",
      "[57.5, True, 10, 'Python']\n"
     ]
    }
   ],
   "source": [
    "# Reversing a List.\n",
    "\n",
    "a=['Python',10,True,57.5]\n",
    "print(a)\n",
    "a.reverse()\n",
    "print(a)"
   ]
  },
  {
   "cell_type": "code",
   "execution_count": 7,
   "id": "66fe278a",
   "metadata": {},
   "outputs": [
    {
     "name": "stdout",
     "output_type": "stream",
     "text": [
      "292\n"
     ]
    }
   ],
   "source": [
    "# Sum of number digits in List.\n",
    "\n",
    "a=[15,35,16,77,59,90]\n",
    "sum=0\n",
    "for i in a:\n",
    "    sum=sum+i\n",
    "print(sum)"
   ]
  },
  {
   "cell_type": "code",
   "execution_count": 9,
   "id": "a6a09de2",
   "metadata": {},
   "outputs": [
    {
     "name": "stdout",
     "output_type": "stream",
     "text": [
      "3434508000\n"
     ]
    }
   ],
   "source": [
    "# Multiply all numbers in the list.\n",
    "\n",
    "a=[15,35,16,77,59,90]\n",
    "mul=1\n",
    "for i in a:\n",
    "    mul=mul*i\n",
    "print(mul)"
   ]
  },
  {
   "cell_type": "code",
   "execution_count": 10,
   "id": "19c44e9d",
   "metadata": {},
   "outputs": [
    {
     "name": "stdout",
     "output_type": "stream",
     "text": [
      "77\n"
     ]
    }
   ],
   "source": [
    "# Python program to find second largest number in a list.\n",
    "\n",
    "a=[15,35,16,77,59,90]\n",
    "a.sort()\n",
    "print(a[-2])"
   ]
  },
  {
   "cell_type": "code",
   "execution_count": 44,
   "id": "35ed69b4",
   "metadata": {},
   "outputs": [
    {
     "name": "stdout",
     "output_type": "stream",
     "text": [
      "Number of even element are 2\n",
      "Number of odd element are 4\n"
     ]
    }
   ],
   "source": [
    "# Python program to count Even and Odd numbers in a List.\n",
    "\n",
    "a=[15,35,16,77,59,90]\n",
    "even=[]\n",
    "odd=[]\n",
    "for i in a:\n",
    "    if i%2==0:\n",
    "        even.append(i)\n",
    "    else:\n",
    "        odd.append(i)\n",
    "\n",
    "#print(\"Even elements are\",even)\n",
    "print(\"Number of even element are\",len(even))\n",
    "#print(\"Odd elements are\",odd)\n",
    "print(\"Number of odd element are\",len(odd))"
   ]
  },
  {
   "cell_type": "code",
   "execution_count": 46,
   "id": "3275379b",
   "metadata": {},
   "outputs": [
    {
     "name": "stdout",
     "output_type": "stream",
     "text": [
      "25\n",
      "35\n",
      "5\n",
      "56\n"
     ]
    }
   ],
   "source": [
    "# Python program to print positive numbers in a list.\n",
    "\n",
    "a=[25,35,-56,5,-60,-5,56]\n",
    "for i in a:\n",
    "    if i>0:\n",
    "        print(i)"
   ]
  },
  {
   "cell_type": "code",
   "execution_count": 47,
   "id": "4796d697",
   "metadata": {},
   "outputs": [
    {
     "name": "stdout",
     "output_type": "stream",
     "text": [
      "-56\n",
      "-60\n",
      "-5\n"
     ]
    }
   ],
   "source": [
    "# Python program to print negative numbers in a list.\n",
    "\n",
    "a=[25,35,-56,5,-60,-5,56]\n",
    "for i in a:\n",
    "    if i<0:\n",
    "        print(i)"
   ]
  },
  {
   "cell_type": "code",
   "execution_count": null,
   "id": "d8e3cde9",
   "metadata": {},
   "outputs": [],
   "source": []
  }
 ],
 "metadata": {
  "kernelspec": {
   "display_name": "Python 3 (ipykernel)",
   "language": "python",
   "name": "python3"
  },
  "language_info": {
   "codemirror_mode": {
    "name": "ipython",
    "version": 3
   },
   "file_extension": ".py",
   "mimetype": "text/x-python",
   "name": "python",
   "nbconvert_exporter": "python",
   "pygments_lexer": "ipython3",
   "version": "3.9.7"
  }
 },
 "nbformat": 4,
 "nbformat_minor": 5
}
