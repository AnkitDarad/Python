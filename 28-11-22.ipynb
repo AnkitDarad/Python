{
 "cells": [
  {
   "cell_type": "code",
   "execution_count": 22,
   "id": "9c183ab9",
   "metadata": {},
   "outputs": [
    {
     "ename": "TypeError",
     "evalue": "object.__init__() takes exactly one argument (the instance to initialize)",
     "output_type": "error",
     "traceback": [
      "\u001b[1;31m---------------------------------------------------------------------------\u001b[0m",
      "\u001b[1;31mTypeError\u001b[0m                                 Traceback (most recent call last)",
      "Input \u001b[1;32mIn [22]\u001b[0m, in \u001b[0;36m<cell line: 18>\u001b[1;34m()\u001b[0m\n\u001b[0;32m     10\u001b[0m         \u001b[38;5;28mself\u001b[39m\u001b[38;5;241m.\u001b[39mbd\u001b[38;5;241m=\u001b[39mbd\n\u001b[0;32m     11\u001b[0m \u001b[38;5;66;03m#        b_speed=c_speed\u001b[39;00m\n\u001b[0;32m     12\u001b[0m  \u001b[38;5;66;03m#       b_dis=c_speed\u001b[39;00m\n\u001b[0;32m     13\u001b[0m     \n\u001b[0;32m     14\u001b[0m \u001b[38;5;66;03m#    def time():\u001b[39;00m\n\u001b[0;32m     15\u001b[0m  \u001b[38;5;66;03m#       t=self.b_dis/self.b_speed\u001b[39;00m\n\u001b[0;32m     16\u001b[0m   \u001b[38;5;66;03m#      return t\u001b[39;00m\n\u001b[1;32m---> 18\u001b[0m b \u001b[38;5;241m=\u001b[39m \u001b[43mbike\u001b[49m\u001b[43m(\u001b[49m\u001b[38;5;241;43m67\u001b[39;49m\u001b[43m,\u001b[49m\u001b[38;5;241;43m6\u001b[39;49m\u001b[43m,\u001b[49m\u001b[38;5;241;43m8\u001b[39;49m\u001b[43m,\u001b[49m\u001b[38;5;241;43m5\u001b[39;49m\u001b[43m)\u001b[49m\n",
      "Input \u001b[1;32mIn [22]\u001b[0m, in \u001b[0;36mbike.__init__\u001b[1;34m(self, cs, cd, bs, bd)\u001b[0m\n\u001b[0;32m      7\u001b[0m \u001b[38;5;28;01mdef\u001b[39;00m \u001b[38;5;21m__init__\u001b[39m(\u001b[38;5;28mself\u001b[39m,cs,cd,bs,bd):\n\u001b[1;32m----> 8\u001b[0m     \u001b[38;5;28;43msuper\u001b[39;49m\u001b[43m(\u001b[49m\u001b[43m)\u001b[49m\u001b[38;5;241;43m.\u001b[39;49m\u001b[43m \u001b[49m\u001b[38;5;21;43m__init__\u001b[39;49m\u001b[43m(\u001b[49m\u001b[43mcs\u001b[49m\u001b[43m,\u001b[49m\u001b[43mcd\u001b[49m\u001b[43m)\u001b[49m\n\u001b[0;32m      9\u001b[0m     \u001b[38;5;28mself\u001b[39m\u001b[38;5;241m.\u001b[39mbs\u001b[38;5;241m=\u001b[39mbs\n\u001b[0;32m     10\u001b[0m     \u001b[38;5;28mself\u001b[39m\u001b[38;5;241m.\u001b[39mbd\u001b[38;5;241m=\u001b[39mbd\n",
      "\u001b[1;31mTypeError\u001b[0m: object.__init__() takes exactly one argument (the instance to initialize)"
     ]
    }
   ],
   "source": [
    "class car:\n",
    "    def __init___(self,cs,cd):\n",
    "        self.cs=cs\n",
    "        self.cd=cd\n",
    "    \n",
    "class bike(car):\n",
    "    def __init__(self,cs,cd,bs,bd):\n",
    "        super(). __init__(cs,cd)\n",
    "        self.bs=bs\n",
    "        self.bd=bd\n",
    "#        b_speed=c_speed\n",
    " #       b_dis=c_speed\n",
    "    \n",
    "#    def time():\n",
    " #       t=self.b_dis/self.b_speed\n",
    "  #      return t\n",
    "\n",
    "b = bike(67,6,8,5)\n"
   ]
  },
  {
   "cell_type": "code",
   "execution_count": 23,
   "id": "9da73e75",
   "metadata": {},
   "outputs": [
    {
     "data": {
      "text/plain": [
       "8"
      ]
     },
     "execution_count": 23,
     "metadata": {},
     "output_type": "execute_result"
    }
   ],
   "source": [
    "b.bs"
   ]
  },
  {
   "cell_type": "code",
   "execution_count": 24,
   "id": "6b0d572c",
   "metadata": {},
   "outputs": [
    {
     "ename": "AttributeError",
     "evalue": "'bike' object has no attribute 'cs'",
     "output_type": "error",
     "traceback": [
      "\u001b[1;31m---------------------------------------------------------------------------\u001b[0m",
      "\u001b[1;31mAttributeError\u001b[0m                            Traceback (most recent call last)",
      "Input \u001b[1;32mIn [24]\u001b[0m, in \u001b[0;36m<cell line: 1>\u001b[1;34m()\u001b[0m\n\u001b[1;32m----> 1\u001b[0m \u001b[43mb\u001b[49m\u001b[38;5;241;43m.\u001b[39;49m\u001b[43mcs\u001b[49m\n",
      "\u001b[1;31mAttributeError\u001b[0m: 'bike' object has no attribute 'cs'"
     ]
    }
   ],
   "source": [
    "b.cs"
   ]
  },
  {
   "cell_type": "code",
   "execution_count": 36,
   "id": "d1ecdf73",
   "metadata": {},
   "outputs": [
    {
     "ename": "TypeError",
     "evalue": "object.__init__() takes exactly one argument (the instance to initialize)",
     "output_type": "error",
     "traceback": [
      "\u001b[1;31m---------------------------------------------------------------------------\u001b[0m",
      "\u001b[1;31mTypeError\u001b[0m                                 Traceback (most recent call last)",
      "Input \u001b[1;32mIn [36]\u001b[0m, in \u001b[0;36m<cell line: 10>\u001b[1;34m()\u001b[0m\n\u001b[0;32m      7\u001b[0m     \u001b[38;5;28;01mdef\u001b[39;00m \u001b[38;5;21m__init__\u001b[39m(\u001b[38;5;28mself\u001b[39m,cs,cd):\n\u001b[0;32m      8\u001b[0m         car\u001b[38;5;241m.\u001b[39m\u001b[38;5;21m__init__\u001b[39m(\u001b[38;5;28mself\u001b[39m,cs,cd)\n\u001b[1;32m---> 10\u001b[0m a\u001b[38;5;241m=\u001b[39m\u001b[43mbike\u001b[49m\u001b[43m(\u001b[49m\u001b[38;5;241;43m5\u001b[39;49m\u001b[43m,\u001b[49m\u001b[38;5;241;43m6\u001b[39;49m\u001b[43m)\u001b[49m\n",
      "Input \u001b[1;32mIn [36]\u001b[0m, in \u001b[0;36mbike.__init__\u001b[1;34m(self, cs, cd)\u001b[0m\n\u001b[0;32m      7\u001b[0m \u001b[38;5;28;01mdef\u001b[39;00m \u001b[38;5;21m__init__\u001b[39m(\u001b[38;5;28mself\u001b[39m,cs,cd):\n\u001b[1;32m----> 8\u001b[0m     \u001b[43mcar\u001b[49m\u001b[38;5;241;43m.\u001b[39;49m\u001b[38;5;21;43m__init__\u001b[39;49m\u001b[43m(\u001b[49m\u001b[38;5;28;43mself\u001b[39;49m\u001b[43m,\u001b[49m\u001b[43mcs\u001b[49m\u001b[43m,\u001b[49m\u001b[43mcd\u001b[49m\u001b[43m)\u001b[49m\n",
      "\u001b[1;31mTypeError\u001b[0m: object.__init__() takes exactly one argument (the instance to initialize)"
     ]
    }
   ],
   "source": [
    "class car:\n",
    "    def __init___(self,cs,cd):\n",
    "        self.cs=cs\n",
    "        self.cd=cd\n",
    "    \n",
    "class bike(car):\n",
    "    def __init__(self,cs,cd):\n",
    "        car.__init__(self,cs,cd)\n",
    "\n",
    "a=bike(5,6)"
   ]
  },
  {
   "cell_type": "code",
   "execution_count": 45,
   "id": "f52b23e5",
   "metadata": {},
   "outputs": [
    {
     "data": {
      "text/plain": [
       "2.8208955223880596"
      ]
     },
     "execution_count": 45,
     "metadata": {},
     "output_type": "execute_result"
    }
   ],
   "source": [
    "class car:\n",
    "    def __init__(self,s,d):\n",
    "        self.s=s\n",
    "        self.d=d\n",
    "        \n",
    "class bike(car):\n",
    "    def __init__(self,s,d):\n",
    "        car.__init__(self,s,d)\n",
    "        \n",
    "    def time(self):\n",
    "        t=self.d/self.s\n",
    "        return t\n",
    "        \n",
    "a=bike(67,189)\n",
    "a.time()"
   ]
  },
  {
   "cell_type": "code",
   "execution_count": 43,
   "id": "230b3415",
   "metadata": {},
   "outputs": [
    {
     "data": {
      "text/plain": [
       "67"
      ]
     },
     "execution_count": 43,
     "metadata": {},
     "output_type": "execute_result"
    }
   ],
   "source": [
    "a.s"
   ]
  },
  {
   "cell_type": "code",
   "execution_count": 49,
   "id": "d734ada3",
   "metadata": {},
   "outputs": [],
   "source": [
    "class stu:\n",
    "    def __init__(self,name,age):\n",
    "        self.name=name\n",
    "        self.age=age\n",
    "    \n",
    "class marks(stu):\n",
    "    def __init__(self,name,age,mark):\n",
    "        super().__init__(name,age)\n",
    "        self.mark=mark\n",
    "        \n",
    "class school:\n",
    "    def __init__(self,sc):\n",
    "        self.sc=sc\n",
    "        \n",
    "m=marks(\"abc\",18,50)\n",
    "s=school(\"bns\")"
   ]
  },
  {
   "cell_type": "code",
   "execution_count": 50,
   "id": "d3983008",
   "metadata": {},
   "outputs": [
    {
     "data": {
      "text/plain": [
       "'bns'"
      ]
     },
     "execution_count": 50,
     "metadata": {},
     "output_type": "execute_result"
    }
   ],
   "source": [
    "s.sc"
   ]
  },
  {
   "cell_type": "code",
   "execution_count": 51,
   "id": "73669d7e",
   "metadata": {},
   "outputs": [
    {
     "data": {
      "text/plain": [
       "50"
      ]
     },
     "execution_count": 51,
     "metadata": {},
     "output_type": "execute_result"
    }
   ],
   "source": [
    "m.mark"
   ]
  },
  {
   "cell_type": "code",
   "execution_count": 55,
   "id": "3a38af32",
   "metadata": {},
   "outputs": [],
   "source": [
    "class stu:\n",
    "    def __init__(self,name,age):\n",
    "        self.name=name\n",
    "        self.age=age\n",
    "    \n",
    "class marks:\n",
    "    def __init__(self,mark):\n",
    "        self.mark=mark\n",
    "        \n",
    "class school(stu):\n",
    "    def __init__(self,name,age,sc):\n",
    "        super().__init__(name,age)\n",
    "        self.sc=sc\n",
    "        \n",
    "m=marks(50)\n",
    "s=school(\"abc\",18,\"bns\")"
   ]
  },
  {
   "cell_type": "code",
   "execution_count": 56,
   "id": "3d2279e0",
   "metadata": {},
   "outputs": [
    {
     "data": {
      "text/plain": [
       "'abc'"
      ]
     },
     "execution_count": 56,
     "metadata": {},
     "output_type": "execute_result"
    }
   ],
   "source": [
    "s.name"
   ]
  },
  {
   "cell_type": "code",
   "execution_count": 57,
   "id": "ad549805",
   "metadata": {},
   "outputs": [],
   "source": [
    "class stu:\n",
    "    def __init__(self,name,age):\n",
    "        self.name=name\n",
    "        self.age=age\n",
    "    \n",
    "class marks:\n",
    "    def __init__(self,mark):\n",
    "        self.mark=mark\n",
    "        \n",
    "class school(marks):\n",
    "    def __init__(self,mark,sc):\n",
    "        super().__init__(mark)\n",
    "        self.sc=sc\n",
    "        \n",
    "st=stu(\"abc\",18)\n",
    "s=school(88,\"bns\")"
   ]
  },
  {
   "cell_type": "code",
   "execution_count": 58,
   "id": "c18563ce",
   "metadata": {},
   "outputs": [
    {
     "data": {
      "text/plain": [
       "'abc'"
      ]
     },
     "execution_count": 58,
     "metadata": {},
     "output_type": "execute_result"
    }
   ],
   "source": [
    "st.name"
   ]
  },
  {
   "cell_type": "code",
   "execution_count": 59,
   "id": "1940baf2",
   "metadata": {},
   "outputs": [
    {
     "data": {
      "text/plain": [
       "88"
      ]
     },
     "execution_count": 59,
     "metadata": {},
     "output_type": "execute_result"
    }
   ],
   "source": [
    "s.mark"
   ]
  },
  {
   "cell_type": "code",
   "execution_count": 62,
   "id": "8fafa4b2",
   "metadata": {},
   "outputs": [],
   "source": [
    "class stu:\n",
    "    def __init__(self,name,age):\n",
    "        self.name=name\n",
    "        self.age=age\n",
    "    \n",
    "class marks(stu):\n",
    "    def __init__(self,name,age,mark):\n",
    "        super().__init__(name,age)\n",
    "        self.mark=mark\n",
    "        \n",
    "class school(marks):\n",
    "    def __init__(self,name,age,mark,sc):\n",
    "        super().__init__(name,age,mark)\n",
    "        self.sc=sc\n",
    "        \n",
    "s=school(\"abc\",18,88,\"bns\")"
   ]
  },
  {
   "cell_type": "code",
   "execution_count": 63,
   "id": "7607d560",
   "metadata": {},
   "outputs": [
    {
     "data": {
      "text/plain": [
       "('abc', 18, 88, 'bns')"
      ]
     },
     "execution_count": 63,
     "metadata": {},
     "output_type": "execute_result"
    }
   ],
   "source": [
    "s.name,s.age,s.mark,s.sc"
   ]
  },
  {
   "cell_type": "code",
   "execution_count": null,
   "id": "77a28af5",
   "metadata": {},
   "outputs": [],
   "source": []
  }
 ],
 "metadata": {
  "kernelspec": {
   "display_name": "Python 3 (ipykernel)",
   "language": "python",
   "name": "python3"
  },
  "language_info": {
   "codemirror_mode": {
    "name": "ipython",
    "version": 3
   },
   "file_extension": ".py",
   "mimetype": "text/x-python",
   "name": "python",
   "nbconvert_exporter": "python",
   "pygments_lexer": "ipython3",
   "version": "3.9.7"
  }
 },
 "nbformat": 4,
 "nbformat_minor": 5
}
